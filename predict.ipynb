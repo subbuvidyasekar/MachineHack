{
 "cells": [
  {
   "cell_type": "code",
   "execution_count": 1,
   "metadata": {},
   "outputs": [],
   "source": [
    "import pandas as pd\n",
    "from sklearn.linear_model import LinearRegression\n",
    "import numpy as np\n",
    "from sklearn.model_selection import train_test_split\n",
    "from sklearn.metrics import mean_squared_log_error\n",
    "from sklearn.preprocessing import MinMaxScaler\n",
    "from sklearn.preprocessing import StandardScaler\n",
    "from sklearn import preprocessing"
   ]
  },
  {
   "cell_type": "code",
   "execution_count": 2,
   "metadata": {
    "scrolled": true
   },
   "outputs": [],
   "source": [
    "data = pd.read_csv('../ParticipantData_BTPC/Train.csv')"
   ]
  },
  {
   "cell_type": "code",
   "execution_count": null,
   "metadata": {},
   "outputs": [],
   "source": [
    "data['client'] = data['client_agent'].str.split(\"/\",n = 1, expand = True)[0]\n",
    "data.client.value_counts()"
   ]
  },
  {
   "cell_type": "code",
   "execution_count": 8,
   "metadata": {},
   "outputs": [
    {
     "name": "stderr",
     "output_type": "stream",
     "text": [
      "C:\\Users\\52052723\\AppData\\Local\\Continuum\\anaconda\\lib\\site-packages\\ipykernel_launcher.py:5: SettingWithCopyWarning: \n",
      "A value is trying to be set on a copy of a slice from a DataFrame.\n",
      "Try using .loc[row_indexer,col_indexer] = value instead\n",
      "\n",
      "See the caveats in the documentation: http://pandas.pydata.org/pandas-docs/stable/indexing.html#indexing-view-versus-copy\n",
      "  \"\"\"\n"
     ]
    }
   ],
   "source": [
    "# Create a label encoder object \n",
    "def MultiLabelEncoder(columnlist,dataframe):\n",
    "    for i in columnlist:\n",
    "        labelencoder_X=preprocessing.LabelEncoder()\n",
    "        dataframe[i]=labelencoder_X.fit_transform(dataframe[i])\n",
    "    return dataframe\n",
    "\n",
    "\n",
    "def preprocess(data):\n",
    "    data['client'] = data['client_agent'].str.split(\"/\",n = 1, expand = True)[0]\n",
    "    data[\"client\"] = data[\"client\"].astype(\"str\")\n",
    "    data['client'].fillna(data['client'].mode(), inplace=True)\n",
    "    data['device'] = data['device_details'].str.split(\"-\",n = 1, expand = True)[0]\n",
    "    data['browser'] = data['device_details'].str.split(\"-\",n = 1, expand = True)[1]\n",
    "    data.date = pd.to_datetime(data.date)\n",
    "    data['year'] = data.date.dt.year\n",
    "    data['month'] = data.date.dt.month\n",
    "    data['day'] = data.date.dt.day\n",
    "    cols = ['session_number','client','purchased','added_in_cart','checked_out','device','browser','time_spent'] # ,'year','month','day', time_spent\n",
    "    inn = data[cols]\n",
    "    columnlist = ['device','browser','client']\n",
    "    inn = MultiLabelEncoder(columnlist,inn)\n",
    "    return inn\n",
    "\n",
    "pre_data = preprocess(data)\n"
   ]
  },
  {
   "cell_type": "code",
   "execution_count": 24,
   "metadata": {},
   "outputs": [
    {
     "name": "stdout",
     "output_type": "stream",
     "text": [
      "Index(['session_number', 'client', 'purchased', 'added_in_cart', 'checked_out',\n",
      "       'device', 'browser', 'time_spent'],\n",
      "      dtype='object')\n",
      "(5429, 8)\n"
     ]
    }
   ],
   "source": [
    "scaler = MinMaxScaler(feature_range=(0.01, 5))\n",
    "scaled = scaler.fit_transform(pre_data)\n",
    "scal = pd.DataFrame(data = scaled, columns = pre_data.columns)"
   ]
  },
  {
   "cell_type": "code",
   "execution_count": 25,
   "metadata": {},
   "outputs": [
    {
     "name": "stdout",
     "output_type": "stream",
     "text": [
      "0.017876784383092936\n"
     ]
    }
   ],
   "source": [
    "def model():\n",
    "    y = scal[['time_spent']]\n",
    "    x = scal.drop(['time_spent'], axis = 1)\n",
    "    x_value = np.array(x)\n",
    "    y_value = np.array(y)\n",
    "    X_train, X_test, y_train, y_test = train_test_split(x_value, y_value,test_size=0.2,random_state=42)\n",
    "    lin_reg = LinearRegression()\n",
    "    lin_reg.fit(X_train, y_train)\n",
    "    predd = lin_reg.predict(X_test)\n",
    "    print(mean_squared_log_error(predd, y_test)) \n",
    "    return lin_reg\n",
    "lin_reg = model()"
   ]
  },
  {
   "cell_type": "code",
   "execution_count": 14,
   "metadata": {},
   "outputs": [],
   "source": [
    "def preprocess_test(data):\n",
    "    data['client'] = data['client_agent'].str.split(\"/\",n = 1, expand = True)[0]\n",
    "    data[\"client\"] = data[\"client\"].astype(\"str\")\n",
    "    data['client'].fillna(data['client'].mode(), inplace=True)\n",
    "    data['device'] = data['device_details'].str.split(\"-\",n = 1, expand = True)[0]\n",
    "    data['browser'] = data['device_details'].str.split(\"-\",n = 1, expand = True)[1]\n",
    "    data.date = pd.to_datetime(data.date)\n",
    "    data['year'] = data.date.dt.year\n",
    "    data['month'] = data.date.dt.month\n",
    "    data['day'] = data.date.dt.day\n",
    "    cols = ['session_number','client','purchased','added_in_cart','checked_out','device','browser'] # ,'year','month','day', time_spent\n",
    "    inn = data[cols]\n",
    "    columnlist = ['device','browser','client']\n",
    "    inn = MultiLabelEncoder(columnlist,inn)\n",
    "    return inn"
   ]
  },
  {
   "cell_type": "code",
   "execution_count": 26,
   "metadata": {},
   "outputs": [
    {
     "name": "stdout",
     "output_type": "stream",
     "text": [
      "(2327, 8)\n",
      "(2327, 1)\n",
      "7\n"
     ]
    },
    {
     "name": "stderr",
     "output_type": "stream",
     "text": [
      "C:\\Users\\52052723\\AppData\\Local\\Continuum\\anaconda\\lib\\site-packages\\ipykernel_launcher.py:5: SettingWithCopyWarning: \n",
      "A value is trying to be set on a copy of a slice from a DataFrame.\n",
      "Try using .loc[row_indexer,col_indexer] = value instead\n",
      "\n",
      "See the caveats in the documentation: http://pandas.pydata.org/pandas-docs/stable/indexing.html#indexing-view-versus-copy\n",
      "  \"\"\"\n"
     ]
    }
   ],
   "source": [
    "test = pd.read_csv('../ParticipantData_BTPC/Test.csv')\n",
    "sub = pd.read_csv(\"../ParticipantData_BTPC/Sample Submission.csv\")\n",
    "pre_test = preprocess_test(test)\n",
    "scaler = MinMaxScaler(feature_range=(0.01, 5))\n",
    "scaled_test = scaler.fit_transform(pre_test)"
   ]
  },
  {
   "cell_type": "code",
   "execution_count": 27,
   "metadata": {},
   "outputs": [
    {
     "data": {
      "text/plain": [
       "array([[0.15419901],\n",
       "       [0.05316298],\n",
       "       [0.18202075],\n",
       "       ...,\n",
       "       [0.12036657],\n",
       "       [0.17020481],\n",
       "       [0.15045105]])"
      ]
     },
     "execution_count": 27,
     "metadata": {},
     "output_type": "execute_result"
    }
   ],
   "source": [
    "pred = lin_reg.predict(scaled_test)\n"
   ]
  },
  {
   "cell_type": "code",
   "execution_count": 28,
   "metadata": {},
   "outputs": [],
   "source": [
    "sub['time_spent'] = pred\n",
    "sub.to_csv(\"../ParticipantData_BTPC/Submission.csv\", index = False)"
   ]
  },
  {
   "cell_type": "code",
   "execution_count": null,
   "metadata": {},
   "outputs": [],
   "source": []
  }
 ],
 "metadata": {
  "kernelspec": {
   "display_name": "Python 3",
   "language": "python",
   "name": "python3"
  },
  "language_info": {
   "codemirror_mode": {
    "name": "ipython",
    "version": 3
   },
   "file_extension": ".py",
   "mimetype": "text/x-python",
   "name": "python",
   "nbconvert_exporter": "python",
   "pygments_lexer": "ipython3",
   "version": "3.7.3"
  }
 },
 "nbformat": 4,
 "nbformat_minor": 2
}
