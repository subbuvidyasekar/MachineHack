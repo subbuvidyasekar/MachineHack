{
 "cells": [
  {
   "cell_type": "code",
   "execution_count": null,
   "metadata": {},
   "outputs": [],
   "source": [
    "import pandas as pd\n",
    "from sklearn.linear_model import LinearRegression\n",
    "import numpy as np\n",
    "from sklearn.model_selection import train_test_split\n",
    "from sklearn.metrics import mean_squared_log_error\n",
    "from sklearn.preprocessing import MinMaxScaler\n",
    "from sklearn.preprocessing import StandardScaler\n",
    "from sklearn import preprocessing\n",
    "from sklearn.ensemble import RandomForestRegressor"
   ]
  },
  {
   "cell_type": "code",
   "execution_count": null,
   "metadata": {
    "scrolled": true
   },
   "outputs": [],
   "source": [
    "data = pd.read_csv('Train.csv')"
   ]
  },
  {
   "cell_type": "code",
   "execution_count": null,
   "metadata": {},
   "outputs": [],
   "source": [
    "data.head()"
   ]
  },
  {
   "cell_type": "code",
   "execution_count": null,
   "metadata": {},
   "outputs": [],
   "source": [
    "data['os'] = data['client_agent'].str.split(\"/\",n = 1, expand = True)[1].str.split(' ',n = 1, expand = True)[1]\n",
    "data.os.value_counts()"
   ]
  },
  {
   "cell_type": "code",
   "execution_count": null,
   "metadata": {},
   "outputs": [],
   "source": [
    "data['client'] = data['client_agent'].str.split(\"/\",n = 1, expand = True)[0]\n",
    "data['c_version'] = data['client_agent'].str.split(\"/\",n = 1, expand = True)[1].str.split(' ',n = 1, expand = True)[0]\n",
    "data.c_version.value_counts()\n",
    "data.isna().sum()"
   ]
  },
  {
   "cell_type": "code",
   "execution_count": null,
   "metadata": {},
   "outputs": [],
   "source": [
    "# Create a label encoder object \n",
    "def MultiLabelEncoder(columnlist,dataframe):\n",
    "    for i in columnlist:\n",
    "        labelencoder_X=preprocessing.LabelEncoder()\n",
    "        dataframe[i]=labelencoder_X.fit_transform(dataframe[i])\n",
    "    return dataframe\n",
    "\n",
    "\n",
    "def preprocess(data):\n",
    "    data['client'] = data['client_agent'].str.split(\"/\",n = 1, expand = True)[0]\n",
    "    data[\"client\"] = data[\"client\"].astype(\"str\")\n",
    "    data['client'].fillna(data['client'].mode(), inplace=True)\n",
    "    data['c_version'] = data['client_agent'].str.split(\"/\",n = 1, expand = True)[1].str.split(' ',n = 1, expand = True)[0]\n",
    "    data[\"c_version\"] = data[\"c_version\"].astype(\"str\")\n",
    "    data['c_version'].fillna(data['c_version'].mode(), inplace=True)\n",
    "    data['device'] = data['device_details'].str.split(\"-\",n = 1, expand = True)[0]\n",
    "    data['browser'] = data['device_details'].str.split(\"-\",n = 1, expand = True)[1]\n",
    "    data.date = pd.to_datetime(data.date)\n",
    "    data['year'] = data.date.dt.year\n",
    "    data['month'] = data.date.dt.month\n",
    "    data['day'] = data.date.dt.day\n",
    "    data['dayofweek'] = data.date.dt.dayofweek\n",
    "    data['month_start'] = data.date.dt.is_month_start\n",
    "    data['month_end'] = data.date.dt.is_month_end\n",
    "    cols = ['client','c_version','purchased','added_in_cart','checked_out','device','browser','month','day','dayofweek','month_start','month_end','time_spent']\n",
    "    inn = data[cols]\n",
    "    columnlist = ['client','device','browser','c_version','month_start','month_end']\n",
    "    inn = MultiLabelEncoder(columnlist,inn)\n",
    "    return inn\n",
    "\n",
    "pre_data = preprocess(data)\n"
   ]
  },
  {
   "cell_type": "code",
   "execution_count": null,
   "metadata": {},
   "outputs": [],
   "source": [
    "pre_data.head()"
   ]
  },
  {
   "cell_type": "code",
   "execution_count": null,
   "metadata": {},
   "outputs": [],
   "source": [
    "scaler = MinMaxScaler(feature_range=(0.1, 0.9))\n",
    "scaled = scaler.fit_transform(pre_data)\n",
    "pre_data = pd.DataFrame(data = scaled, columns = pre_data.columns)"
   ]
  },
  {
   "cell_type": "code",
   "execution_count": null,
   "metadata": {},
   "outputs": [],
   "source": [
    "def model():\n",
    "    y = pre_data[['time_spent']]\n",
    "    x = pre_data.drop(['time_spent'], axis = 1)\n",
    "    x_value = np.array(x)\n",
    "    y_value = np.array(y)\n",
    "    X_train, X_test, y_train, y_test = train_test_split(x_value, y_value,test_size=0.1,random_state=42)\n",
    "    #lin_reg = LinearRegression()\n",
    "    #lin_reg.fit(X_train, y_train)\n",
    "    regr = RandomForestRegressor(max_depth=2, random_state=0)\n",
    "    regr.fit(X_train, y_train)\n",
    "    predd = regr.predict(X_test)\n",
    "    print(mean_squared_log_error(predd, y_test)) \n",
    "    return regr\n",
    "lin_reg = model()"
   ]
  },
  {
   "cell_type": "code",
   "execution_count": null,
   "metadata": {},
   "outputs": [],
   "source": [
    "def preprocess_test(data):\n",
    "    data['client'] = data['client_agent'].str.split(\"/\",n = 1, expand = True)[0]\n",
    "    data[\"client\"] = data[\"client\"].astype(\"str\")\n",
    "    data['client'].fillna(data['client'].mode(), inplace=True)\n",
    "    data['c_version'] = data['client_agent'].str.split(\"/\",n = 1, expand = True)[1].str.split(' ',n = 1, expand = True)[0]\n",
    "    data[\"c_version\"] = data[\"c_version\"].astype(\"str\")\n",
    "    data['c_version'].fillna(data['c_version'].mode(), inplace=True)\n",
    "    data['device'] = data['device_details'].str.split(\"-\",n = 1, expand = True)[0]\n",
    "    data['browser'] = data['device_details'].str.split(\"-\",n = 1, expand = True)[1]\n",
    "    data.date = pd.to_datetime(data.date)\n",
    "    data['year'] = data.date.dt.year\n",
    "    data['month'] = data.date.dt.month\n",
    "    data['day'] = data.date.dt.day\n",
    "    data['dayofweek'] = data.date.dt.dayofweek\n",
    "    data['month_start'] = data.date.dt.is_month_start\n",
    "    data['month_end'] = data.date.dt.is_month_end\n",
    "    cols = ['client','c_version','purchased','added_in_cart','checked_out','device','browser','month','day','dayofweek','month_start','month_end']\n",
    "    inn = data[cols]\n",
    "    columnlist = ['device','browser','client','c_version','month_start','month_end']\n",
    "    inn = MultiLabelEncoder(columnlist,inn)\n",
    "    return inn"
   ]
  },
  {
   "cell_type": "code",
   "execution_count": null,
   "metadata": {},
   "outputs": [],
   "source": [
    "test = pd.read_csv('Test.csv')\n",
    "sub = pd.read_csv(\"Sample Submission.csv\")\n",
    "pre_test = preprocess_test(test)\n",
    "#scaler = MinMaxScaler(feature_range=(0.1, 0.9))\n",
    "#scaled_test = scaler.fit_transform(pre_test)"
   ]
  },
  {
   "cell_type": "code",
   "execution_count": null,
   "metadata": {},
   "outputs": [],
   "source": [
    "pred = lin_reg.predict(pre_test)\n",
    "pred"
   ]
  },
  {
   "cell_type": "code",
   "execution_count": null,
   "metadata": {},
   "outputs": [],
   "source": [
    "sub['time_spent'] = pred\n",
    "(sub < 0).values.any()"
   ]
  },
  {
   "cell_type": "code",
   "execution_count": null,
   "metadata": {},
   "outputs": [],
   "source": [
    "#sub['time_spent'] = sub['time_spent'].abs()\n",
    "sub.to_csv(\"Submission.csv\", index = False)"
   ]
  },
  {
   "cell_type": "code",
   "execution_count": null,
   "metadata": {},
   "outputs": [],
   "source": [
    "type(pred)"
   ]
  },
  {
   "cell_type": "code",
   "execution_count": null,
   "metadata": {},
   "outputs": [],
   "source": []
  }
 ],
 "metadata": {
  "kernelspec": {
   "display_name": "Python 3",
   "language": "python",
   "name": "python3"
  },
  "language_info": {
   "codemirror_mode": {
    "name": "ipython",
    "version": 3
   },
   "file_extension": ".py",
   "mimetype": "text/x-python",
   "name": "python",
   "nbconvert_exporter": "python",
   "pygments_lexer": "ipython3",
   "version": "3.7.4"
  }
 },
 "nbformat": 4,
 "nbformat_minor": 2
}
