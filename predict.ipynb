{
 "cells": [
  {
   "cell_type": "code",
   "execution_count": 11,
   "metadata": {},
   "outputs": [],
   "source": [
    "import pandas as pd\n",
    "from sklearn.linear_model import LinearRegression\n",
    "import numpy as np\n",
    "from sklearn.model_selection import train_test_split\n",
    "from sklearn.metrics import mean_squared_log_error\n",
    "from sklearn.preprocessing import MinMaxScaler\n",
    "from sklearn.preprocessing import StandardScaler\n",
    "from sklearn import preprocessing\n",
    "from sklearn.ensemble import RandomForestRegressor\n",
    "from sklearn.model_selection import cross_val_score, GridSearchCV"
   ]
  },
  {
   "cell_type": "code",
   "execution_count": 9,
   "metadata": {
    "scrolled": true
   },
   "outputs": [],
   "source": [
    "data = pd.read_csv('Train.csv')"
   ]
  },
  {
   "cell_type": "code",
   "execution_count": null,
   "metadata": {},
   "outputs": [],
   "source": [
    "data.head()"
   ]
  },
  {
   "cell_type": "code",
   "execution_count": null,
   "metadata": {},
   "outputs": [],
   "source": [
    "data['os'] = data['client_agent'].str.split(\"/\",n = 1, expand = True)[1].str.split(' ',n = 1, expand = True)[1]\n",
    "data.os.value_counts()"
   ]
  },
  {
   "cell_type": "code",
   "execution_count": null,
   "metadata": {},
   "outputs": [],
   "source": [
    "data['client'] = data['client_agent'].str.split(\"/\",n = 1, expand = True)[0]\n",
    "data['c_version'] = data['client_agent'].str.split(\"/\",n = 1, expand = True)[1].str.split(' ',n = 1, expand = True)[0]\n",
    "data.c_version.value_counts()\n",
    "data.isna().sum()"
   ]
  },
  {
   "cell_type": "code",
   "execution_count": 10,
   "metadata": {},
   "outputs": [
    {
     "name": "stderr",
     "output_type": "stream",
     "text": [
      "/Users/subbuvidyasekar/Soft/anaconda3/lib/python3.7/site-packages/ipykernel_launcher.py:5: SettingWithCopyWarning: \n",
      "A value is trying to be set on a copy of a slice from a DataFrame.\n",
      "Try using .loc[row_indexer,col_indexer] = value instead\n",
      "\n",
      "See the caveats in the documentation: http://pandas.pydata.org/pandas-docs/stable/user_guide/indexing.html#returning-a-view-versus-a-copy\n",
      "  \"\"\"\n"
     ]
    }
   ],
   "source": [
    "# Create a label encoder object \n",
    "def MultiLabelEncoder(columnlist,dataframe):\n",
    "    for i in columnlist:\n",
    "        labelencoder_X=preprocessing.LabelEncoder()\n",
    "        dataframe[i]=labelencoder_X.fit_transform(dataframe[i])\n",
    "    return dataframe\n",
    "\n",
    "\n",
    "def preprocess(data):\n",
    "    data['client'] = data['client_agent'].str.split(\"/\",n = 1, expand = True)[0]\n",
    "    data[\"client\"] = data[\"client\"].astype(\"str\")\n",
    "    data['client'].fillna(data['client'].mode(), inplace=True)\n",
    "    data['c_version'] = data['client_agent'].str.split(\"/\",n = 1, expand = True)[1].str.split(' ',n = 1, expand = True)[0]\n",
    "    data[\"c_version\"] = data[\"c_version\"].astype(\"str\")\n",
    "    data['c_version'].fillna(data['c_version'].mode(), inplace=True)\n",
    "    data['device'] = data['device_details'].str.split(\"-\",n = 1, expand = True)[0]\n",
    "    data['browser'] = data['device_details'].str.split(\"-\",n = 1, expand = True)[1]\n",
    "    data.date = pd.to_datetime(data.date)\n",
    "    data['year'] = data.date.dt.year\n",
    "    data['month'] = data.date.dt.month\n",
    "    data['day'] = data.date.dt.day\n",
    "    data['dayofweek'] = data.date.dt.dayofweek\n",
    "    data['month_start'] = data.date.dt.is_month_start\n",
    "    data['month_end'] = data.date.dt.is_month_end\n",
    "    cols = ['client','c_version','purchased','added_in_cart','checked_out','device','browser','month','day','dayofweek','month_start','month_end','time_spent']\n",
    "    inn = data[cols]\n",
    "    columnlist = ['client','device','browser','c_version','month_start','month_end']\n",
    "    inn = MultiLabelEncoder(columnlist,inn)\n",
    "    return inn\n",
    "\n",
    "pre_data = preprocess(data)\n"
   ]
  },
  {
   "cell_type": "code",
   "execution_count": null,
   "metadata": {},
   "outputs": [],
   "source": [
    "pre_data.head()"
   ]
  },
  {
   "cell_type": "code",
   "execution_count": 4,
   "metadata": {},
   "outputs": [],
   "source": [
    "scaler = MinMaxScaler(feature_range=(0.1, 0.9))\n",
    "scaled = scaler.fit_transform(pre_data)\n",
    "pre_data = pd.DataFrame(data = scaled, columns = pre_data.columns)"
   ]
  },
  {
   "cell_type": "code",
   "execution_count": 41,
   "metadata": {},
   "outputs": [
    {
     "name": "stderr",
     "output_type": "stream",
     "text": [
      "/Users/subbuvidyasekar/Soft/anaconda3/lib/python3.7/site-packages/sklearn/model_selection/_search.py:715: DataConversionWarning: A column-vector y was passed when a 1d array was expected. Please change the shape of y to (n_samples,), for example using ravel().\n",
      "  self.best_estimator_.fit(X, y, **fit_params)\n"
     ]
    }
   ],
   "source": [
    "y = pre_data[['time_spent']]\n",
    "x = pre_data.drop(['time_spent'], axis = 1)\n",
    "x_value = np.array(x)\n",
    "y_value = np.array(y)\n",
    "X_train, X_test, y_train, y_test = train_test_split(x_value, y_value,test_size=0.1,random_state=42)\n",
    "gsc = GridSearchCV(\n",
    "        estimator=RandomForestRegressor(),\n",
    "        param_grid={\n",
    "            'max_depth': range(3,7),\n",
    "            'n_estimators': (10, 50, 100, 1000),\n",
    "            'min_samples_leaf':(2,4,6,8,10),\n",
    "        },\n",
    "        cv=5, scoring='neg_mean_squared_error', verbose=0, n_jobs=-1)\n",
    "    \n",
    "grid_result = gsc.fit(X_train, y_train)\n",
    "best_params = grid_result.best_params_\n",
    "best_params"
   ]
  },
  {
   "cell_type": "code",
   "execution_count": 42,
   "metadata": {},
   "outputs": [
    {
     "data": {
      "text/plain": [
       "{'max_depth': 6, 'min_samples_leaf': 2, 'n_estimators': 100}"
      ]
     },
     "execution_count": 42,
     "metadata": {},
     "output_type": "execute_result"
    }
   ],
   "source": [
    "best_params"
   ]
  },
  {
   "cell_type": "code",
   "execution_count": 75,
   "metadata": {},
   "outputs": [
    {
     "name": "stderr",
     "output_type": "stream",
     "text": [
      "/Users/subbuvidyasekar/Soft/anaconda3/lib/python3.7/site-packages/ipykernel_launcher.py:13: DataConversionWarning: A column-vector y was passed when a 1d array was expected. Please change the shape of y to (n_samples,), for example using ravel().\n",
      "  del sys.path[0]\n"
     ]
    },
    {
     "name": "stdout",
     "output_type": "stream",
     "text": [
      "3.1632892902156584\n"
     ]
    }
   ],
   "source": [
    "def model():\n",
    "    y = pre_data[['time_spent']]\n",
    "    x = pre_data.drop(['time_spent'], axis = 1)\n",
    "    x_value = np.array(x)\n",
    "    y_value = np.array(y)\n",
    "    X_train, X_test, y_train, y_test = train_test_split(x_value, y_value,test_size=0.1,random_state=42)\n",
    "    #lin_reg = LinearRegression()\n",
    "    #lin_reg.fit(X_train, y_train)\n",
    "    regr = RandomForestRegressor(n_estimators = 100, max_depth=12, \n",
    "                                 random_state=3, max_features= 'auto',\n",
    "                                 min_samples_leaf= 6, min_samples_split= 10,\n",
    "                                 bootstrap= True)\n",
    "    regr.fit(X_train, y_train)\n",
    "    predd = regr.predict(X_test)\n",
    "    print(mean_squared_log_error(predd, y_test)) \n",
    "    return regr\n",
    "lin_reg = model()"
   ]
  },
  {
   "cell_type": "code",
   "execution_count": 45,
   "metadata": {},
   "outputs": [],
   "source": [
    "def preprocess_test(data):\n",
    "    data['client'] = data['client_agent'].str.split(\"/\",n = 1, expand = True)[0]\n",
    "    data[\"client\"] = data[\"client\"].astype(\"str\")\n",
    "    data['client'].fillna(data['client'].mode(), inplace=True)\n",
    "    data['c_version'] = data['client_agent'].str.split(\"/\",n = 1, expand = True)[1].str.split(' ',n = 1, expand = True)[0]\n",
    "    data[\"c_version\"] = data[\"c_version\"].astype(\"str\")\n",
    "    data['c_version'].fillna(data['c_version'].mode(), inplace=True)\n",
    "    data['device'] = data['device_details'].str.split(\"-\",n = 1, expand = True)[0]\n",
    "    data['browser'] = data['device_details'].str.split(\"-\",n = 1, expand = True)[1]\n",
    "    data.date = pd.to_datetime(data.date)\n",
    "    data['year'] = data.date.dt.year\n",
    "    data['month'] = data.date.dt.month\n",
    "    data['day'] = data.date.dt.day\n",
    "    data['dayofweek'] = data.date.dt.dayofweek\n",
    "    data['month_start'] = data.date.dt.is_month_start\n",
    "    data['month_end'] = data.date.dt.is_month_end\n",
    "    cols = ['client','c_version','purchased','added_in_cart','checked_out','device','browser','month','day','dayofweek','month_start','month_end']\n",
    "    inn = data[cols]\n",
    "    columnlist = ['device','browser','client','c_version','month_start','month_end']\n",
    "    inn = MultiLabelEncoder(columnlist,inn)\n",
    "    return inn"
   ]
  },
  {
   "cell_type": "code",
   "execution_count": 46,
   "metadata": {},
   "outputs": [
    {
     "name": "stderr",
     "output_type": "stream",
     "text": [
      "/Users/subbuvidyasekar/Soft/anaconda3/lib/python3.7/site-packages/ipykernel_launcher.py:5: SettingWithCopyWarning: \n",
      "A value is trying to be set on a copy of a slice from a DataFrame.\n",
      "Try using .loc[row_indexer,col_indexer] = value instead\n",
      "\n",
      "See the caveats in the documentation: http://pandas.pydata.org/pandas-docs/stable/user_guide/indexing.html#returning-a-view-versus-a-copy\n",
      "  \"\"\"\n"
     ]
    }
   ],
   "source": [
    "test = pd.read_csv('Test.csv')\n",
    "sub = pd.read_csv(\"Sample Submission.csv\")\n",
    "pre_test = preprocess_test(test)\n",
    "#scaler = MinMaxScaler(feature_range=(0.1, 0.9))\n",
    "#scaled_test = scaler.fit_transform(pre_test)"
   ]
  },
  {
   "cell_type": "code",
   "execution_count": 47,
   "metadata": {},
   "outputs": [
    {
     "data": {
      "text/plain": [
       "array([ 798.13320151,  208.44213237,  741.16403127, ...,  157.23068758,\n",
       "        778.44800758, 1554.50445607])"
      ]
     },
     "execution_count": 47,
     "metadata": {},
     "output_type": "execute_result"
    }
   ],
   "source": [
    "pred = lin_reg.predict(pre_test)\n",
    "pred"
   ]
  },
  {
   "cell_type": "code",
   "execution_count": 48,
   "metadata": {},
   "outputs": [
    {
     "data": {
      "text/plain": [
       "False"
      ]
     },
     "execution_count": 48,
     "metadata": {},
     "output_type": "execute_result"
    }
   ],
   "source": [
    "sub['time_spent'] = pred\n",
    "(sub < 0).values.any()"
   ]
  },
  {
   "cell_type": "code",
   "execution_count": 49,
   "metadata": {},
   "outputs": [],
   "source": [
    "#sub['time_spent'] = sub['time_spent'].abs()\n",
    "sub.to_csv(\"Submission.csv\", index = False)"
   ]
  },
  {
   "cell_type": "code",
   "execution_count": null,
   "metadata": {},
   "outputs": [],
   "source": [
    "type(pred)"
   ]
  },
  {
   "cell_type": "code",
   "execution_count": null,
   "metadata": {},
   "outputs": [],
   "source": []
  }
 ],
 "metadata": {
  "kernelspec": {
   "display_name": "Python 3",
   "language": "python",
   "name": "python3"
  },
  "language_info": {
   "codemirror_mode": {
    "name": "ipython",
    "version": 3
   },
   "file_extension": ".py",
   "mimetype": "text/x-python",
   "name": "python",
   "nbconvert_exporter": "python",
   "pygments_lexer": "ipython3",
   "version": "3.7.4"
  }
 },
 "nbformat": 4,
 "nbformat_minor": 2
}
