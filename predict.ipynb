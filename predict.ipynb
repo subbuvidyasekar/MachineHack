{
 "cells": [
  {
   "cell_type": "code",
   "execution_count": 1,
   "metadata": {},
   "outputs": [],
   "source": [
    "import pandas as pd\n",
    "from sklearn.linear_model import LinearRegression\n",
    "import numpy as np\n",
    "from sklearn.model_selection import train_test_split\n",
    "from sklearn.metrics import mean_squared_log_error\n",
    "from sklearn.preprocessing import MinMaxScaler\n",
    "from sklearn.preprocessing import StandardScaler\n",
    "from sklearn import preprocessing"
   ]
  },
  {
   "cell_type": "code",
   "execution_count": 2,
   "metadata": {
    "scrolled": true
   },
   "outputs": [],
   "source": [
    "data = pd.read_csv('Train.csv')"
   ]
  },
  {
   "cell_type": "code",
   "execution_count": 3,
   "metadata": {},
   "outputs": [
    {
     "data": {
      "text/html": [
       "<div>\n",
       "<style scoped>\n",
       "    .dataframe tbody tr th:only-of-type {\n",
       "        vertical-align: middle;\n",
       "    }\n",
       "\n",
       "    .dataframe tbody tr th {\n",
       "        vertical-align: top;\n",
       "    }\n",
       "\n",
       "    .dataframe thead th {\n",
       "        text-align: right;\n",
       "    }\n",
       "</style>\n",
       "<table border=\"1\" class=\"dataframe\">\n",
       "  <thead>\n",
       "    <tr style=\"text-align: right;\">\n",
       "      <th></th>\n",
       "      <th>session_id</th>\n",
       "      <th>session_number</th>\n",
       "      <th>client_agent</th>\n",
       "      <th>device_details</th>\n",
       "      <th>date</th>\n",
       "      <th>purchased</th>\n",
       "      <th>added_in_cart</th>\n",
       "      <th>checked_out</th>\n",
       "      <th>time_spent</th>\n",
       "    </tr>\n",
       "  </thead>\n",
       "  <tbody>\n",
       "    <tr>\n",
       "      <td>0</td>\n",
       "      <td>57f879e70d3c5fc2a98102d64c9fd84e</td>\n",
       "      <td>715</td>\n",
       "      <td>Mozilla/5.0 (Windows NT 6.1; WOW64) AppleWebKi...</td>\n",
       "      <td>Desktop - Chrome</td>\n",
       "      <td>1/22/2020</td>\n",
       "      <td>1</td>\n",
       "      <td>0</td>\n",
       "      <td>0</td>\n",
       "      <td>236.886</td>\n",
       "    </tr>\n",
       "    <tr>\n",
       "      <td>1</td>\n",
       "      <td>a5442b0c7c33d0a811e7661e556b2de8</td>\n",
       "      <td>55</td>\n",
       "      <td>Product/8.0 iPhone/8.1.3</td>\n",
       "      <td>iPhone - iOS</td>\n",
       "      <td>2/27/2020</td>\n",
       "      <td>1</td>\n",
       "      <td>0</td>\n",
       "      <td>0</td>\n",
       "      <td>1277.455</td>\n",
       "    </tr>\n",
       "    <tr>\n",
       "      <td>2</td>\n",
       "      <td>305cb1486ed8610c00b37007926cb2c4</td>\n",
       "      <td>11</td>\n",
       "      <td>Mozilla/5.0 (iPhone; CPU iPhone OS 7_1_2 like ...</td>\n",
       "      <td>iPhone - MobileWeb</td>\n",
       "      <td>8/1/2019</td>\n",
       "      <td>0</td>\n",
       "      <td>0</td>\n",
       "      <td>0</td>\n",
       "      <td>21.704</td>\n",
       "    </tr>\n",
       "    <tr>\n",
       "      <td>3</td>\n",
       "      <td>f2c1ecc9993f0071df91ba178450498c</td>\n",
       "      <td>2794</td>\n",
       "      <td>Mozilla/5.0 (compatible; MSIE 9.0; Windows NT ...</td>\n",
       "      <td>Desktop - IE</td>\n",
       "      <td>12/30/2019</td>\n",
       "      <td>0</td>\n",
       "      <td>1</td>\n",
       "      <td>0</td>\n",
       "      <td>455.201</td>\n",
       "    </tr>\n",
       "    <tr>\n",
       "      <td>4</td>\n",
       "      <td>e460830ae295e55d2216ebdc761ab9a6</td>\n",
       "      <td>3674</td>\n",
       "      <td>Mozilla/5.0 (iPhone; CPU iPhone OS 7_1_1 like ...</td>\n",
       "      <td>iPhone - Web</td>\n",
       "      <td>9/10/2019</td>\n",
       "      <td>0</td>\n",
       "      <td>0</td>\n",
       "      <td>0</td>\n",
       "      <td>1164.877</td>\n",
       "    </tr>\n",
       "  </tbody>\n",
       "</table>\n",
       "</div>"
      ],
      "text/plain": [
       "                         session_id  session_number  \\\n",
       "0  57f879e70d3c5fc2a98102d64c9fd84e             715   \n",
       "1  a5442b0c7c33d0a811e7661e556b2de8              55   \n",
       "2  305cb1486ed8610c00b37007926cb2c4              11   \n",
       "3  f2c1ecc9993f0071df91ba178450498c            2794   \n",
       "4  e460830ae295e55d2216ebdc761ab9a6            3674   \n",
       "\n",
       "                                        client_agent      device_details  \\\n",
       "0  Mozilla/5.0 (Windows NT 6.1; WOW64) AppleWebKi...    Desktop - Chrome   \n",
       "1                           Product/8.0 iPhone/8.1.3        iPhone - iOS   \n",
       "2  Mozilla/5.0 (iPhone; CPU iPhone OS 7_1_2 like ...  iPhone - MobileWeb   \n",
       "3  Mozilla/5.0 (compatible; MSIE 9.0; Windows NT ...        Desktop - IE   \n",
       "4  Mozilla/5.0 (iPhone; CPU iPhone OS 7_1_1 like ...        iPhone - Web   \n",
       "\n",
       "         date  purchased  added_in_cart  checked_out  time_spent  \n",
       "0   1/22/2020          1              0            0     236.886  \n",
       "1   2/27/2020          1              0            0    1277.455  \n",
       "2    8/1/2019          0              0            0      21.704  \n",
       "3  12/30/2019          0              1            0     455.201  \n",
       "4   9/10/2019          0              0            0    1164.877  "
      ]
     },
     "execution_count": 3,
     "metadata": {},
     "output_type": "execute_result"
    }
   ],
   "source": [
    "data.head()"
   ]
  },
  {
   "cell_type": "code",
   "execution_count": null,
   "metadata": {},
   "outputs": [],
   "source": [
    "data['os'] = data['client_agent'].str.split(\"/\",n = 1, expand = True)[1].str.split(' ',n = 1, expand = True)[1]\n",
    "data.os.value_counts()"
   ]
  },
  {
   "cell_type": "code",
   "execution_count": null,
   "metadata": {},
   "outputs": [],
   "source": [
    "data['client'] = data['client_agent'].str.split(\"/\",n = 1, expand = True)[0]\n",
    "data['c_version'] = data['client_agent'].str.split(\"/\",n = 1, expand = True)[1].str.split(' ',n = 1, expand = True)[0]\n",
    "data.c_version.value_counts()\n",
    "data.isna().sum()"
   ]
  },
  {
   "cell_type": "code",
   "execution_count": 13,
   "metadata": {},
   "outputs": [
    {
     "name": "stderr",
     "output_type": "stream",
     "text": [
      "/Users/subbuvidyasekar/Soft/anaconda3/lib/python3.7/site-packages/ipykernel_launcher.py:5: SettingWithCopyWarning: \n",
      "A value is trying to be set on a copy of a slice from a DataFrame.\n",
      "Try using .loc[row_indexer,col_indexer] = value instead\n",
      "\n",
      "See the caveats in the documentation: http://pandas.pydata.org/pandas-docs/stable/user_guide/indexing.html#returning-a-view-versus-a-copy\n",
      "  \"\"\"\n"
     ]
    }
   ],
   "source": [
    "# Create a label encoder object \n",
    "def MultiLabelEncoder(columnlist,dataframe):\n",
    "    for i in columnlist:\n",
    "        labelencoder_X=preprocessing.LabelEncoder()\n",
    "        dataframe[i]=labelencoder_X.fit_transform(dataframe[i])\n",
    "    return dataframe\n",
    "\n",
    "\n",
    "def preprocess(data):\n",
    "    data['client'] = data['client_agent'].str.split(\"/\",n = 1, expand = True)[0]\n",
    "    data[\"client\"] = data[\"client\"].astype(\"str\")\n",
    "    data['client'].fillna(data['client'].mode(), inplace=True)\n",
    "    data['c_version'] = data['client_agent'].str.split(\"/\",n = 1, expand = True)[1].str.split(' ',n = 1, expand = True)[0]\n",
    "    data[\"c_version\"] = data[\"c_version\"].astype(\"str\")\n",
    "    data['c_version'].fillna(data['c_version'].mode(), inplace=True)\n",
    "    data['device'] = data['device_details'].str.split(\"-\",n = 1, expand = True)[0]\n",
    "    data['browser'] = data['device_details'].str.split(\"-\",n = 1, expand = True)[1]\n",
    "    data.date = pd.to_datetime(data.date)\n",
    "    data['year'] = data.date.dt.year\n",
    "    data['month'] = data.date.dt.month\n",
    "    data['day'] = data.date.dt.day\n",
    "    data['dayofweek'] = data.date.dt.dayofweek\n",
    "    data['month_start'] = data.date.dt.is_month_start\n",
    "    data['month_end'] = data.date.dt.is_month_end\n",
    "    cols = ['client','c_version','purchased','added_in_cart','checked_out','device','browser','month','day','dayofweek','month_start','month_end','time_spent']\n",
    "    inn = data[cols]\n",
    "    columnlist = ['client','device','browser','c_version','month_start','month_end']\n",
    "    inn = MultiLabelEncoder(columnlist,inn)\n",
    "    return inn\n",
    "\n",
    "pre_data = preprocess(data)\n"
   ]
  },
  {
   "cell_type": "code",
   "execution_count": null,
   "metadata": {},
   "outputs": [],
   "source": [
    "pre_data.head()"
   ]
  },
  {
   "cell_type": "code",
   "execution_count": null,
   "metadata": {},
   "outputs": [],
   "source": [
    "scaler = MinMaxScaler(feature_range=(0.1, 0.9))\n",
    "scaled = scaler.fit_transform(pre_data)\n",
    "scal = pd.DataFrame(data = scaled, columns = pre_data.columns)"
   ]
  },
  {
   "cell_type": "code",
   "execution_count": 14,
   "metadata": {},
   "outputs": [],
   "source": [
    "def model():\n",
    "    y = pre_data[['time_spent']]\n",
    "    x = pre_data.drop(['time_spent'], axis = 1)\n",
    "    x_value = np.array(x)\n",
    "    y_value = np.array(y)\n",
    "    X_train, X_test, y_train, y_test = train_test_split(x_value, y_value,test_size=0.1,random_state=42)\n",
    "    lin_reg = LinearRegression()\n",
    "    lin_reg.fit(X_train, y_train)\n",
    "    predd = lin_reg.predict(X_test)\n",
    "    #print(mean_squared_log_error(predd, y_test)) \n",
    "    return lin_reg\n",
    "lin_reg = model()"
   ]
  },
  {
   "cell_type": "code",
   "execution_count": 15,
   "metadata": {},
   "outputs": [],
   "source": [
    "def preprocess_test(data):\n",
    "    data['client'] = data['client_agent'].str.split(\"/\",n = 1, expand = True)[0]\n",
    "    data[\"client\"] = data[\"client\"].astype(\"str\")\n",
    "    data['client'].fillna(data['client'].mode(), inplace=True)\n",
    "    data['c_version'] = data['client_agent'].str.split(\"/\",n = 1, expand = True)[1].str.split(' ',n = 1, expand = True)[0]\n",
    "    data[\"c_version\"] = data[\"c_version\"].astype(\"str\")\n",
    "    data['c_version'].fillna(data['c_version'].mode(), inplace=True)\n",
    "    data['device'] = data['device_details'].str.split(\"-\",n = 1, expand = True)[0]\n",
    "    data['browser'] = data['device_details'].str.split(\"-\",n = 1, expand = True)[1]\n",
    "    data.date = pd.to_datetime(data.date)\n",
    "    data['year'] = data.date.dt.year\n",
    "    data['month'] = data.date.dt.month\n",
    "    data['day'] = data.date.dt.day\n",
    "    data['dayofweek'] = data.date.dt.dayofweek\n",
    "    data['month_start'] = data.date.dt.is_month_start\n",
    "    data['month_end'] = data.date.dt.is_month_end\n",
    "    cols = ['client','c_version','purchased','added_in_cart','checked_out','device','browser','month','day','dayofweek','month_start','month_end']\n",
    "    inn = data[cols]\n",
    "    columnlist = ['device','browser','client','c_version','month_start','month_end']\n",
    "    inn = MultiLabelEncoder(columnlist,inn)\n",
    "    return inn"
   ]
  },
  {
   "cell_type": "code",
   "execution_count": 16,
   "metadata": {},
   "outputs": [
    {
     "name": "stderr",
     "output_type": "stream",
     "text": [
      "/Users/subbuvidyasekar/Soft/anaconda3/lib/python3.7/site-packages/ipykernel_launcher.py:5: SettingWithCopyWarning: \n",
      "A value is trying to be set on a copy of a slice from a DataFrame.\n",
      "Try using .loc[row_indexer,col_indexer] = value instead\n",
      "\n",
      "See the caveats in the documentation: http://pandas.pydata.org/pandas-docs/stable/user_guide/indexing.html#returning-a-view-versus-a-copy\n",
      "  \"\"\"\n"
     ]
    }
   ],
   "source": [
    "test = pd.read_csv('Test.csv')\n",
    "sub = pd.read_csv(\"Sample Submission.csv\")\n",
    "pre_test = preprocess_test(test)\n",
    "#scaler = MinMaxScaler(feature_range=(0.1, 0.9))\n",
    "#scaled_test = scaler.fit_transform(pre_test)"
   ]
  },
  {
   "cell_type": "code",
   "execution_count": 17,
   "metadata": {},
   "outputs": [
    {
     "data": {
      "text/plain": [
       "array([[1217.98725484],\n",
       "       [ 486.58735136],\n",
       "       [1481.71969948],\n",
       "       ...,\n",
       "       [ 456.40526061],\n",
       "       [1231.19673385],\n",
       "       [1156.51534389]])"
      ]
     },
     "execution_count": 17,
     "metadata": {},
     "output_type": "execute_result"
    }
   ],
   "source": [
    "pred = lin_reg.predict(pre_test)\n",
    "pred"
   ]
  },
  {
   "cell_type": "code",
   "execution_count": 18,
   "metadata": {},
   "outputs": [
    {
     "data": {
      "text/plain": [
       "True"
      ]
     },
     "execution_count": 18,
     "metadata": {},
     "output_type": "execute_result"
    }
   ],
   "source": [
    "sub['time_spent'] = pred\n",
    "(sub < 0).values.any()"
   ]
  },
  {
   "cell_type": "code",
   "execution_count": 19,
   "metadata": {},
   "outputs": [],
   "source": [
    "sub['time_spent'] = sub['time_spent'].abs()\n",
    "sub.to_csv(\"Submission.csv\", index = False)"
   ]
  },
  {
   "cell_type": "code",
   "execution_count": null,
   "metadata": {},
   "outputs": [],
   "source": [
    "type(pred)"
   ]
  },
  {
   "cell_type": "code",
   "execution_count": null,
   "metadata": {},
   "outputs": [],
   "source": []
  }
 ],
 "metadata": {
  "kernelspec": {
   "display_name": "Python 3",
   "language": "python",
   "name": "python3"
  },
  "language_info": {
   "codemirror_mode": {
    "name": "ipython",
    "version": 3
   },
   "file_extension": ".py",
   "mimetype": "text/x-python",
   "name": "python",
   "nbconvert_exporter": "python",
   "pygments_lexer": "ipython3",
   "version": "3.7.4"
  }
 },
 "nbformat": 4,
 "nbformat_minor": 2
}
